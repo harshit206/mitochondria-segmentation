{
 "cells": [
  {
   "cell_type": "markdown",
   "id": "df607ad7",
   "metadata": {},
   "source": [
    "### This notebook contains a detailed walkthrough for training a semantic segmentation model on Mitochondria dataset using 3D UNet architecture. "
   ]
  },
  {
   "cell_type": "markdown",
   "id": "0e936786",
   "metadata": {},
   "source": [
    "###### Reference: The code for 3D UNet was developed using the architecture from the paper '<i><u>3D U-Net: Learning Dense Volumetric Segmentation from Sparse Annotation</u></i>' (https://arxiv.org/abs/1606.06650). Some references were taken from Abhishek Thakur's video on implementing 2D UNet from scratch."
   ]
  },
  {
   "cell_type": "markdown",
   "id": "0c65e60d",
   "metadata": {},
   "source": [
    "### Load libraries"
   ]
  },
  {
   "cell_type": "code",
   "execution_count": 1,
   "id": "ecab8a21",
   "metadata": {},
   "outputs": [],
   "source": [
    "import numpy as np\n",
    "from skimage import io\n",
    "\n",
    "from sklearn.model_selection import train_test_split\n",
    "from patchify import patchify\n",
    "\n",
    "\n",
    "import torch\n",
    "from torch import nn\n",
    "import torchvision.transforms as transforms\n",
    "from torch.utils.data import Dataset, DataLoader\n",
    "\n",
    "from unet3d import Unet3d\n",
    "\n",
    "from matplotlib import pyplot as plt\n"
   ]
  },
  {
   "cell_type": "markdown",
   "id": "abe9ecb3",
   "metadata": {},
   "source": [
    "#### Clear GPU memory"
   ]
  },
  {
   "cell_type": "code",
   "execution_count": 2,
   "id": "ad511a02",
   "metadata": {},
   "outputs": [],
   "source": [
    "torch.cuda.empty_cache() "
   ]
  },
  {
   "cell_type": "markdown",
   "id": "cc8b1c6f",
   "metadata": {},
   "source": [
    "#### We define a class called 'Voxels' that takes the image and corresponding masks as the input and normalizes them. The images and masks are in the 'tif' format but major formats are also supported. We also create a method 'generate_voxels' that generates voxels of size 64x64x64 using the patchify library."
   ]
  },
  {
   "cell_type": "code",
   "execution_count": 3,
   "id": "45edad02",
   "metadata": {},
   "outputs": [],
   "source": [
    "class Voxels:\n",
    "    def __init__(self, image_path, mask_path):\n",
    "        self.image = io.imread(image_path)\n",
    "        self.mask = io.imread(mask_path)\n",
    "        self.mask = np.where(self.mask==255, 1, 0) #Convert image mask into a binary mask\n",
    "        \n",
    "        #normalize the image\n",
    "        self.image = (self.image - self.image.mean())/self.image.std()\n",
    "        \n",
    "    def generate_voxels(self, volume_size):\n",
    "        image_volume = patchify(self.image, volume_size, step=volume_size[0])\n",
    "        mask_volume = patchify(self.mask, volume_size, step=volume_size[0])\n",
    "        \n",
    "        image_voxels = image_volume.reshape(-1, 1, volume_size[0], volume_size[1], volume_size[2])\n",
    "        mask_voxels = mask_volume.reshape(-1, volume_size[0],volume_size[1],volume_size[2])\n",
    "        \n",
    "        return image_voxels, mask_voxels\n",
    "        \n",
    "        \n",
    "        \n",
    "        "
   ]
  },
  {
   "cell_type": "code",
   "execution_count": 4,
   "id": "f4c6b89e",
   "metadata": {},
   "outputs": [],
   "source": [
    "patcher = Voxels(image_path='./training.tif',  mask_path='./training_groundtruth.tif')"
   ]
  },
  {
   "cell_type": "code",
   "execution_count": 5,
   "id": "236dbb2e",
   "metadata": {},
   "outputs": [],
   "source": [
    "image_voxels, mask_voxels = patcher.generate_voxels((64,64,64))"
   ]
  },
  {
   "cell_type": "markdown",
   "id": "b2d5b16d",
   "metadata": {},
   "source": [
    "#### To evaluate the perfomance of our model, we would split these voxels into training and validation sets. We have kept 80% of the dataset for training and remaining 20% for validation set."
   ]
  },
  {
   "cell_type": "code",
   "execution_count": 7,
   "id": "1e39bf78",
   "metadata": {},
   "outputs": [],
   "source": [
    "voxels_train,voxels_val, mask_voxels_train,mask_voxels_val = train_test_split(image_voxels,\n",
    "                                                                              mask_voxels, test_size=.2)"
   ]
  },
  {
   "cell_type": "markdown",
   "id": "253898fd",
   "metadata": {},
   "source": [
    "#### Next, we create a PyTorch Dataset and DataLoader class."
   ]
  },
  {
   "cell_type": "code",
   "execution_count": 8,
   "id": "57fc26ec",
   "metadata": {},
   "outputs": [],
   "source": [
    "class MitochondriaDataset(Dataset):\n",
    "    def __init__(self, image_voxels, mask_voxels):\n",
    "        \n",
    "        mask_voxels  = mask_voxels.astype('float32')\n",
    "        image_voxels = image_voxels.astype('float32')\n",
    "        \n",
    "        \n",
    "        self.image_voxels = torch.from_numpy(image_voxels)\n",
    "        self.mask_voxels = torch.from_numpy(mask_voxels)\n",
    "        self.mask_voxels = self.mask_voxels.type(torch.LongTensor)\n",
    "        \n",
    "    def __len__(self):\n",
    "        return self.image_voxels.shape[0]\n",
    "    \n",
    "    def __getitem__(self,idx):\n",
    "        return self.image_voxels[idx,:,:,:], self.mask_voxels[idx,:,:,:]\n",
    "        "
   ]
  },
  {
   "cell_type": "code",
   "execution_count": 9,
   "id": "29f23b65",
   "metadata": {},
   "outputs": [],
   "source": [
    "train_ds = MitochondriaDataset(voxels_train, mask_voxels_train)\n",
    "val_ds = MitochondriaDataset(voxels_val, mask_voxels_val)"
   ]
  },
  {
   "cell_type": "markdown",
   "id": "6974b89d",
   "metadata": {},
   "source": [
    "#### Wrap the dataset object around the PyTorch dataloader. We have kept the batch size as 2 to fit the voxels into GPU memory."
   ]
  },
  {
   "cell_type": "code",
   "execution_count": 10,
   "id": "2fb85b52",
   "metadata": {},
   "outputs": [],
   "source": [
    "train_dl = DataLoader(train_ds,batch_size=2, shuffle=True)\n",
    "val_dl = DataLoader(val_ds,batch_size=2, shuffle=False)"
   ]
  },
  {
   "cell_type": "markdown",
   "id": "893a0283",
   "metadata": {},
   "source": [
    "#### It is highly advisable to use GPU otherwise training would be really slow."
   ]
  },
  {
   "cell_type": "code",
   "execution_count": null,
   "id": "a8b8dde2",
   "metadata": {},
   "outputs": [],
   "source": [
    "device = torch.device(\"cuda:3\" if torch.cuda.is_available()  else \"cpu\")\n"
   ]
  },
  {
   "cell_type": "markdown",
   "id": "38577324",
   "metadata": {},
   "source": [
    "#### The images have unequal distribution of pixels belonging to mitochondria class(1) or not (0) i.e. the dataset poses a class imbalance problem. To solve this, we have assigned lower weights to the majority class and higher weights to the minority class. Later on, we would pass these weights into our loss function."
   ]
  },
  {
   "cell_type": "markdown",
   "id": "329a7973",
   "metadata": {},
   "source": [
    "#### Reference: Code to compute class weights was referred from https://www.analyticsvidhya.com/blog/2020/10/improve-class-imbalance-class-weights/"
   ]
  },
  {
   "cell_type": "code",
   "execution_count": 12,
   "id": "2f589194",
   "metadata": {},
   "outputs": [],
   "source": [
    "def compute_class_weights(labels):\n",
    "    \n",
    "    class_weights = []\n",
    "    \n",
    "    n_classes = list(np.unique(mask_voxels))\n",
    "    n_samples = labels.size\n",
    "    \n",
    "    for i in range(len(n_classes)):\n",
    "        class_weights.append(n_samples/((len(n_classes))*np.sum(mask_voxels==i)))\n",
    "        \n",
    "    return class_weights"
   ]
  },
  {
   "cell_type": "code",
   "execution_count": 13,
   "id": "38d047ca",
   "metadata": {},
   "outputs": [
    {
     "data": {
      "text/plain": [
       "tensor([0.5316, 8.4175], device='cuda:3')"
      ]
     },
     "execution_count": 13,
     "metadata": {},
     "output_type": "execute_result"
    }
   ],
   "source": [
    "class_weights = compute_class_weights(mask_voxels)\n",
    "class_weights=torch.tensor(class_weights,dtype=torch.float).to(device)\n",
    "class_weights"
   ]
  },
  {
   "cell_type": "markdown",
   "id": "7905d5e9",
   "metadata": {},
   "source": [
    "#### Next, we define number of classes and learning rate. We also intialize the 3D UNet model, Adam optimizer and loss fucntion along with computed class weights."
   ]
  },
  {
   "cell_type": "code",
   "execution_count": 14,
   "id": "bd37b5a1",
   "metadata": {},
   "outputs": [],
   "source": [
    "n_classes = 2\n",
    "learning_rate = 1e-4\n",
    "\n",
    "\n",
    "model = Unet3d(n_classes=n_classes).to(device)\n",
    "optimizer = torch.optim.AdamW(model.parameters(), lr=learning_rate)\n",
    "\n",
    "loss_fn = torch.nn.CrossEntropyLoss(weight=class_weights)\n"
   ]
  },
  {
   "cell_type": "markdown",
   "id": "d03737c5",
   "metadata": {},
   "source": [
    "#### We define a function 'run_one_epoch' that iterates over the dataloader, computes cross entropy weighted loss, backpropogates the weight (only if dataloader is a training set, indicated by boolean flag) and finally computes the dice coefficient score."
   ]
  },
  {
   "cell_type": "markdown",
   "id": "edc3bb6e",
   "metadata": {},
   "source": [
    "#### Reference: The code for computing the dice coefficient was referred from open-sourced github repo under free license."
   ]
  },
  {
   "cell_type": "code",
   "execution_count": 15,
   "id": "3e52d9d5",
   "metadata": {},
   "outputs": [],
   "source": [
    "def run_one_epoch(dataloader, model, optimizer, train_flag=True):\n",
    "    dice = []\n",
    "    losses = []\n",
    "    \n",
    "    if train_flag:\n",
    "        model.train()\n",
    "    else:\n",
    "        model.eval()\n",
    "        \n",
    "        \n",
    "    for x,y in train_dl:\n",
    "        x=x.to(device)\n",
    "        y=y.to(device)\n",
    "        y_pred = model(x)\n",
    "        loss = loss_fn(y_pred, y)\n",
    "        \n",
    "        if train_flag:\n",
    "            optimizer.zero_grad()\n",
    "            loss.backward()\n",
    "            optimizer.step()\n",
    "        \n",
    "        losses.append(loss.item())\n",
    "        \n",
    "        smooth = 1.\n",
    "        y_pred = torch.sigmoid(y_pred)\n",
    "        y_pred = torch.max(y_pred,1)[1]\n",
    "        \n",
    "        iflat = y_pred.contiguous().reshape(-1)\n",
    "        tflat = y.contiguous().reshape(-1)\n",
    "        intersection = (iflat * tflat).sum()\n",
    "        \n",
    "        A_sum = torch.sum(iflat * iflat)\n",
    "        B_sum = torch.sum(tflat * tflat)\n",
    "        \n",
    "        dice.append(((2. * intersection + smooth) / (A_sum + B_sum + smooth)).item())\n",
    "        \n",
    "        \n",
    "    return np.mean(losses), np.mean(dice)\n",
    "        "
   ]
  },
  {
   "cell_type": "markdown",
   "id": "ab6f3a33",
   "metadata": {},
   "source": [
    "#### Now that we have everything in place, let's  train the model for 10 epochs initially only and see how the loss function behaves. We would also save the loss values and dice coefficients at the end of every epoch."
   ]
  },
  {
   "cell_type": "code",
   "execution_count": 16,
   "id": "cf9c0573",
   "metadata": {},
   "outputs": [
    {
     "name": "stdout",
     "output_type": "stream",
     "text": [
      "train loss 0.46 valid loss 0.25 train_dice_coeff 0.29 val_dice_coeff 0.35\n",
      "train loss 0.35 valid loss 0.34 train_dice_coeff 0.34 val_dice_coeff 0.25\n",
      "train loss 0.30 valid loss 0.19 train_dice_coeff 0.35 val_dice_coeff 0.38\n",
      "train loss 0.25 valid loss 0.19 train_dice_coeff 0.36 val_dice_coeff 0.42\n",
      "train loss 0.21 valid loss 0.16 train_dice_coeff 0.41 val_dice_coeff 0.40\n",
      "train loss 0.19 valid loss 0.28 train_dice_coeff 0.40 val_dice_coeff 0.42\n",
      "train loss 0.20 valid loss 0.13 train_dice_coeff 0.42 val_dice_coeff 0.46\n",
      "train loss 0.17 valid loss 0.14 train_dice_coeff 0.40 val_dice_coeff 0.44\n",
      "train loss 0.14 valid loss 0.12 train_dice_coeff 0.45 val_dice_coeff 0.42\n",
      "train loss 0.12 valid loss 0.09 train_dice_coeff 0.48 val_dice_coeff 0.44\n"
     ]
    }
   ],
   "source": [
    "train_losses = []\n",
    "val_losses = []\n",
    "train_dice = []\n",
    "val_dice = []\n",
    "for i in range(10):\n",
    "    train_loss, train_dice_coeff = run_one_epoch(train_dl, model, optimizer)\n",
    "    val_loss, val_dice_coeff = run_one_epoch(val_dl, model, optimizer, False)\n",
    "    train_losses.append(train_loss)\n",
    "    val_losses.append(val_loss)    \n",
    "    train_dice.append(train_dice_coeff)\n",
    "    val_dice.append(val_dice_coeff)\n",
    "    print(\"train loss %.2f valid loss %.2f train_dice_coeff %.2f val_dice_coeff %.2f\" %(train_loss, val_loss,train_dice_coeff, val_dice_coeff))"
   ]
  },
  {
   "cell_type": "markdown",
   "id": "cff898a9",
   "metadata": {},
   "source": [
    "#### Since the dice coefficient score is low on validation set and loss is decreasing slowly, let's train the model for more number of epochs"
   ]
  },
  {
   "cell_type": "code",
   "execution_count": 17,
   "id": "f8e182fc",
   "metadata": {},
   "outputs": [
    {
     "name": "stdout",
     "output_type": "stream",
     "text": [
      "train loss 0.12 valid loss 0.12 train_dice_coeff 0.45 val_dice_coeff 0.41\n",
      "train loss 0.12 valid loss 0.08 train_dice_coeff 0.45 val_dice_coeff 0.50\n",
      "train loss 0.12 valid loss 0.09 train_dice_coeff 0.47 val_dice_coeff 0.51\n",
      "train loss 0.10 valid loss 0.07 train_dice_coeff 0.48 val_dice_coeff 0.49\n",
      "train loss 0.09 valid loss 0.06 train_dice_coeff 0.48 val_dice_coeff 0.56\n",
      "train loss 0.07 valid loss 0.10 train_dice_coeff 0.50 val_dice_coeff 0.40\n",
      "train loss 0.11 valid loss 0.07 train_dice_coeff 0.44 val_dice_coeff 0.52\n",
      "train loss 0.09 valid loss 0.06 train_dice_coeff 0.49 val_dice_coeff 0.50\n",
      "train loss 0.06 valid loss 0.05 train_dice_coeff 0.50 val_dice_coeff 0.55\n",
      "train loss 0.06 valid loss 0.05 train_dice_coeff 0.54 val_dice_coeff 0.51\n",
      "train loss 0.09 valid loss 0.06 train_dice_coeff 0.49 val_dice_coeff 0.54\n",
      "train loss 0.09 valid loss 0.05 train_dice_coeff 0.46 val_dice_coeff 0.52\n",
      "train loss 0.05 valid loss 0.04 train_dice_coeff 0.52 val_dice_coeff 0.52\n",
      "train loss 0.08 valid loss 0.05 train_dice_coeff 0.51 val_dice_coeff 0.50\n",
      "train loss 0.06 valid loss 0.05 train_dice_coeff 0.53 val_dice_coeff 0.55\n",
      "train loss 0.04 valid loss 0.04 train_dice_coeff 0.53 val_dice_coeff 0.58\n",
      "train loss 0.04 valid loss 0.03 train_dice_coeff 0.54 val_dice_coeff 0.55\n",
      "train loss 0.05 valid loss 0.06 train_dice_coeff 0.58 val_dice_coeff 0.49\n",
      "train loss 0.05 valid loss 0.06 train_dice_coeff 0.51 val_dice_coeff 0.49\n",
      "train loss 0.05 valid loss 0.03 train_dice_coeff 0.58 val_dice_coeff 0.61\n"
     ]
    }
   ],
   "source": [
    "for i in range(20):\n",
    "    train_loss, train_dice_coeff = run_one_epoch(train_dl, model, optimizer)\n",
    "    val_loss, val_dice_coeff = run_one_epoch(val_dl, model, optimizer, False)\n",
    "    train_losses.append(train_loss)\n",
    "    val_losses.append(val_loss)    \n",
    "    train_dice.append(train_dice_coeff)\n",
    "    val_dice.append(val_dice_coeff)\n",
    "    print(\"train loss %.2f valid loss %.2f train_dice_coeff %.2f val_dice_coeff %.2f\" %(train_loss, val_loss,train_dice_coeff, val_dice_coeff))"
   ]
  },
  {
   "cell_type": "code",
   "execution_count": 18,
   "id": "08e62725",
   "metadata": {},
   "outputs": [
    {
     "name": "stdout",
     "output_type": "stream",
     "text": [
      "train loss 0.04 valid loss 0.03 train_dice_coeff 0.55 val_dice_coeff 0.56\n",
      "train loss 0.04 valid loss 0.03 train_dice_coeff 0.57 val_dice_coeff 0.54\n",
      "train loss 0.04 valid loss 0.03 train_dice_coeff 0.56 val_dice_coeff 0.57\n",
      "train loss 0.03 valid loss 0.03 train_dice_coeff 0.59 val_dice_coeff 0.58\n",
      "train loss 0.03 valid loss 0.03 train_dice_coeff 0.61 val_dice_coeff 0.63\n",
      "train loss 0.03 valid loss 0.03 train_dice_coeff 0.61 val_dice_coeff 0.59\n",
      "train loss 0.03 valid loss 0.03 train_dice_coeff 0.64 val_dice_coeff 0.63\n",
      "train loss 0.03 valid loss 0.03 train_dice_coeff 0.66 val_dice_coeff 0.65\n",
      "train loss 0.04 valid loss 0.07 train_dice_coeff 0.58 val_dice_coeff 0.45\n",
      "train loss 0.14 valid loss 0.07 train_dice_coeff 0.41 val_dice_coeff 0.50\n"
     ]
    }
   ],
   "source": [
    "for i in range(10):\n",
    "    train_loss, train_dice_coeff = run_one_epoch(train_dl, model, optimizer)\n",
    "    val_loss, val_dice_coeff = run_one_epoch(val_dl, model, optimizer, False)\n",
    "    train_losses.append(train_loss)\n",
    "    val_losses.append(val_loss)    \n",
    "    train_dice.append(train_dice_coeff)\n",
    "    val_dice.append(val_dice_coeff)\n",
    "    print(\"train loss %.2f valid loss %.2f train_dice_coeff %.2f val_dice_coeff %.2f\" %(train_loss, val_loss,train_dice_coeff, val_dice_coeff))"
   ]
  },
  {
   "cell_type": "code",
   "execution_count": 19,
   "id": "f4cdc320",
   "metadata": {},
   "outputs": [
    {
     "name": "stdout",
     "output_type": "stream",
     "text": [
      "train loss 0.05 valid loss 0.03 train_dice_coeff 0.54 val_dice_coeff 0.57\n",
      "train loss 0.03 valid loss 0.03 train_dice_coeff 0.59 val_dice_coeff 0.60\n",
      "train loss 0.03 valid loss 0.02 train_dice_coeff 0.60 val_dice_coeff 0.63\n",
      "train loss 0.03 valid loss 0.02 train_dice_coeff 0.60 val_dice_coeff 0.61\n",
      "train loss 0.03 valid loss 0.02 train_dice_coeff 0.64 val_dice_coeff 0.62\n",
      "train loss 0.03 valid loss 0.02 train_dice_coeff 0.65 val_dice_coeff 0.63\n",
      "train loss 0.03 valid loss 0.03 train_dice_coeff 0.65 val_dice_coeff 0.68\n",
      "train loss 0.03 valid loss 0.02 train_dice_coeff 0.65 val_dice_coeff 0.60\n",
      "train loss 0.02 valid loss 0.02 train_dice_coeff 0.66 val_dice_coeff 0.60\n",
      "train loss 0.02 valid loss 0.02 train_dice_coeff 0.70 val_dice_coeff 0.66\n"
     ]
    }
   ],
   "source": [
    "for i in range(10):\n",
    "    train_loss, train_dice_coeff = run_one_epoch(train_dl, model, optimizer)\n",
    "    val_loss, val_dice_coeff = run_one_epoch(val_dl, model, optimizer, False)\n",
    "    train_losses.append(train_loss)\n",
    "    val_losses.append(val_loss)    \n",
    "    train_dice.append(train_dice_coeff)\n",
    "    val_dice.append(val_dice_coeff)\n",
    "    print(\"train loss %.2f valid loss %.2f train_dice_coeff %.2f val_dice_coeff %.2f\" %(train_loss, val_loss,train_dice_coeff, val_dice_coeff))"
   ]
  },
  {
   "cell_type": "markdown",
   "id": "b6f0a486",
   "metadata": {},
   "source": [
    "#### We achieved dice coefficient score of 0.66 on the validation set after training the model for 50 epochs."
   ]
  },
  {
   "cell_type": "markdown",
   "id": "5ab32f1e",
   "metadata": {},
   "source": [
    "#### Let's plot training and validation loss vs number of epochs to inspect the training behaviour."
   ]
  },
  {
   "cell_type": "code",
   "execution_count": 34,
   "id": "ed476492",
   "metadata": {},
   "outputs": [
    {
     "data": {
      "image/png": "[encoded data removed]",
      "text/plain": [
       "<Figure size 720x432 with 1 Axes>"
      ]
     },
     "metadata": {
      "needs_background": "light"
     },
     "output_type": "display_data"
    }
   ],
   "source": [
    "fig, ax = plt.subplots(1, figsize=(10,6))\n",
    "\n",
    "ax.plot(range(1,51),train_losses,label = \"Training Loss\")\n",
    "ax.plot(range(1,51), val_losses,label = \"Validation Loss\")\n",
    "ax.set_xlabel('Number of Epoch') \n",
    "ax.set_ylabel('loss')    \n",
    "plt.legend()   \n",
    "plt.show()    "
   ]
  },
  {
   "cell_type": "markdown",
   "id": "c50c34a6",
   "metadata": {},
   "source": [
    "#### Plot Training and Validation Dice Coefficient score vs Number of Epochs."
   ]
  },
  {
   "cell_type": "code",
   "execution_count": 33,
   "id": "56aa268e",
   "metadata": {},
   "outputs": [
    {
     "data": {
      "image/png": "[encoded data removed]",
      "text/plain": [
       "<Figure size 720x432 with 1 Axes>"
      ]
     },
     "metadata": {
      "needs_background": "light"
     },
     "output_type": "display_data"
    }
   ],
   "source": [
    "fig, ax = plt.subplots(1, figsize=(10,6))\n",
    "\n",
    "ax.plot(range(1,51),train_dice,label = \"Dice Coefficient -Training\")\n",
    "ax.plot(range(1,51), val_dice,label = \"Dice Coefficient -Validation\")\n",
    "ax.set_xlabel('Number of Epoch') \n",
    "ax.set_ylabel('loss')    \n",
    "plt.legend()   \n",
    "plt.show()    "
   ]
  },
  {
   "cell_type": "markdown",
   "id": "4c566d22",
   "metadata": {},
   "source": [
    "#### Save the model"
   ]
  },
  {
   "cell_type": "code",
   "execution_count": 23,
   "id": "ba903441",
   "metadata": {},
   "outputs": [],
   "source": [
    "torch.save(model.state_dict(), './model_3DUnet.pth')"
   ]
  }
 ],
 "metadata": {
  "kernelspec": {
   "display_name": "Python 3",
   "language": "python",
   "name": "python3"
  },
  "language_info": {
   "codemirror_mode": {
    "name": "ipython",
    "version": 3
   },
   "file_extension": ".py",
   "mimetype": "text/x-python",
   "name": "python",
   "nbconvert_exporter": "python",
   "pygments_lexer": "ipython3",
   "version": "3.9.7"
  }
 },
 "nbformat": 4,
 "nbformat_minor": 5
}
