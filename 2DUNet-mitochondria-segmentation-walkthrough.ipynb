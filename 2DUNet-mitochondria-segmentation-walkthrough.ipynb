{
 "cells": [
  {
   "cell_type": "markdown",
   "id": "13bba9d5",
   "metadata": {},
   "source": [
    "### This notebook contains a detailed walkthrough for training a semantic segmentation model on Mitochondria dataset using 2D UNet architecture. "
   ]
  },
  {
   "cell_type": "markdown",
   "id": "0e936786",
   "metadata": {},
   "source": [
    "###### Reference: The code for 2D UNet was developed using the architecture from the paper '<i><u>U-Net: Convolutional Networks for Biomedical Image Segmentation</u></i>' (https://arxiv.org/abs/1505.04597). Some references were taken from Abhishek Thakur's video on implementing 2D UNet from scratch."
   ]
  },
  {
   "cell_type": "markdown",
   "id": "0c65e60d",
   "metadata": {},
   "source": [
    "### Load libraries"
   ]
  },
  {
   "cell_type": "code",
   "execution_count": 1,
   "id": "25926910",
   "metadata": {},
   "outputs": [],
   "source": [
    "import numpy as np\n",
    "from skimage import io\n",
    "\n",
    "from sklearn.model_selection import train_test_split\n",
    "from patchify import patchify\n",
    "\n",
    "\n",
    "import torch\n",
    "from torch import nn\n",
    "import torchvision.transforms as transforms\n",
    "from torch.utils.data import Dataset, DataLoader\n",
    "\n",
    "from unet import UNet\n",
    "import glob\n",
    "from matplotlib import pyplot as plt\n"
   ]
  },
  {
   "cell_type": "markdown",
   "id": "abe9ecb3",
   "metadata": {},
   "source": [
    "#### Clear GPU memory"
   ]
  },
  {
   "cell_type": "code",
   "execution_count": 2,
   "id": "51486dbb",
   "metadata": {},
   "outputs": [],
   "source": [
    "torch.cuda.empty_cache() "
   ]
  },
  {
   "cell_type": "markdown",
   "id": "9bee7d7e",
   "metadata": {},
   "source": [
    "#### Load 2D slices of images and masks generated from ImageJ Software"
   ]
  },
  {
   "cell_type": "code",
   "execution_count": 3,
   "id": "a2f9965c",
   "metadata": {},
   "outputs": [],
   "source": [
    "training_images_paths = glob.glob('./training_images/*.tif')"
   ]
  },
  {
   "cell_type": "code",
   "execution_count": 4,
   "id": "10fc73d4",
   "metadata": {},
   "outputs": [],
   "source": [
    "training_masks_paths = glob.glob('./training_masks/*.tif')"
   ]
  },
  {
   "cell_type": "markdown",
   "id": "cc8b1c6f",
   "metadata": {},
   "source": [
    "#### We define a class called 'Patch' that takes the image and corresponding masks as the input. The images and masks are in the 'tif' format but major formats are also supported. We also create a method 'generate_patches' that generates patches of size 256x256 from each image using the patchify library."
   ]
  },
  {
   "cell_type": "code",
   "execution_count": 5,
   "id": "1a8b5b08",
   "metadata": {},
   "outputs": [],
   "source": [
    "class Patch:\n",
    "    def __init__(self, image_paths, masks_paths):\n",
    "        self.images  = image_paths\n",
    "        self.masks = masks_paths\n",
    "        \n",
    "    def generate_patches(self):\n",
    "        all_image_patches= []\n",
    "        all_mask_patches = []\n",
    "        \n",
    "        for img_path, mask_path in zip(self.images, self.masks):\n",
    "            img = io.imread(img_path)\n",
    "            mask = io.imread(mask_path)\n",
    "            \n",
    "            image_patch = patchify(img, (256,256), step=256)\n",
    "            mask_patch = patchify(mask, (256,256), step=256)\n",
    "            \n",
    "            image_patch = image_patch.reshape(-1,1, 256, 256)\n",
    "            mask_patch = mask_patch.reshape(-1, 256, 256)\n",
    "            \n",
    "            all_image_patches.append(image_patch) \n",
    "            all_mask_patches.append(mask_patch)\n",
    "        \n",
    "        image_patches = np.concatenate(all_image_patches)\n",
    "        mask_patches = np.concatenate(all_mask_patches)\n",
    "\n",
    "        \n",
    "        return image_patches, mask_patches"
   ]
  },
  {
   "cell_type": "code",
   "execution_count": 6,
   "id": "64a3b8e8",
   "metadata": {},
   "outputs": [],
   "source": [
    "patcher = Patch(training_images_paths, training_masks_paths)\n",
    "image_patches, mask_patches = patcher.generate_patches()"
   ]
  },
  {
   "cell_type": "markdown",
   "id": "253898fd",
   "metadata": {},
   "source": [
    "#### Next, we create a PyTorch Dataset and DataLoader class."
   ]
  },
  {
   "cell_type": "code",
   "execution_count": 10,
   "id": "df477d6d",
   "metadata": {},
   "outputs": [],
   "source": [
    "class MitochondriaDataset(Dataset):\n",
    "    def __init__(self, images, masks):\n",
    "        \n",
    "        self.images  = images\n",
    "        self.masks = masks\n",
    "        \n",
    "\n",
    "        \n",
    "        \n",
    "    def __len__(self):\n",
    "        return self.images.shape[0]\n",
    "    \n",
    "    def __getitem__(self,idx):\n",
    "        \n",
    "        mask = np.where(self.masks[idx]== 255, 1, 0) #Convert image mask into a binary mask\n",
    "        \n",
    "        #normalize the image\n",
    "        image = (self.images[idx]  - self.images[idx].mean())/self.images[idx].std()\n",
    "        \n",
    "        image = image.astype('float32')\n",
    "        mask = mask.astype('float32')\n",
    "        \n",
    "        image = torch.from_numpy(image)\n",
    "        mask  = torch.from_numpy(mask)\n",
    "        mask = mask.type(torch.LongTensor)#### Next, we create a PyTorch Dataset and DataLoader class.\n",
    "        \n",
    "        return image, mask\n",
    "        "
   ]
  },
  {
   "cell_type": "markdown",
   "id": "b2d5b16d",
   "metadata": {},
   "source": [
    "#### To evaluate the perfomance of our model, we would split these voxels into training and validation sets. We have kept 80% of the dataset for training and remaining 20% for validation set."
   ]
  },
  {
   "cell_type": "code",
   "execution_count": 11,
   "id": "789619f6",
   "metadata": {},
   "outputs": [],
   "source": [
    "patches_train, patches_val, masks_train, masks_val = train_test_split(image_patches,mask_patches, test_size=.2)\n"
   ]
  },
  {
   "cell_type": "code",
   "execution_count": 12,
   "id": "68aa81b9",
   "metadata": {},
   "outputs": [],
   "source": [
    "train_ds = MitochondriaDataset(patches_train, masks_train)\n",
    "val_ds = MitochondriaDataset(patches_val, masks_val)"
   ]
  },
  {
   "cell_type": "markdown",
   "id": "6974b89d",
   "metadata": {},
   "source": [
    "#### Wrap the dataset object around the PyTorch dataloader. "
   ]
  },
  {
   "cell_type": "code",
   "execution_count": 13,
   "id": "925a0481",
   "metadata": {},
   "outputs": [],
   "source": [
    "train_dl = DataLoader(train_ds,batch_size=2, shuffle=True)\n",
    "val_dl = DataLoader(val_ds,batch_size=2, shuffle=False)"
   ]
  },
  {
   "cell_type": "markdown",
   "id": "893a0283",
   "metadata": {},
   "source": [
    "#### It is highly advisable to use GPU otherwise training would be really slow."
   ]
  },
  {
   "cell_type": "code",
   "execution_count": 15,
   "id": "5cdcaeb8",
   "metadata": {},
   "outputs": [],
   "source": [
    "device = torch.device(\"cuda:2\" if torch.cuda.is_available()  else \"cpu\")\n"
   ]
  },
  {
   "cell_type": "markdown",
   "id": "38577324",
   "metadata": {},
   "source": [
    "#### The images have unequal distribution of pixels belonging to mitochondria class(1) or not (0) i.e. the dataset poses a class imbalance problem. To solve this, we have assigned lower weights to the majority class and higher weights to the minority class. Later on, we would pass these weights into our loss function."
   ]
  },
  {
   "cell_type": "code",
   "execution_count": 17,
   "id": "f440200c",
   "metadata": {},
   "outputs": [],
   "source": [
    "def compute_class_weights(labels):\n",
    "    \n",
    "    class_weights = []\n",
    "    \n",
    "    labels = np.where(labels == 255, 1, 0)\n",
    "    n_classes = list(np.unique(labels))\n",
    "    n_samples = labels.size\n",
    "    \n",
    "    for i in range(len(n_classes)):\n",
    "        class_weights.append(n_samples/((len(n_classes))*np.sum(labels==i)))\n",
    "        \n",
    "    return class_weights"
   ]
  },
  {
   "cell_type": "markdown",
   "id": "329a7973",
   "metadata": {},
   "source": [
    "#### Reference: Code to compute class weights was referred from https://www.analyticsvidhya.com/blog/2020/10/improve-class-imbalance-class-weights/"
   ]
  },
  {
   "cell_type": "code",
   "execution_count": 18,
   "id": "14f00334",
   "metadata": {},
   "outputs": [
    {
     "data": {
      "text/plain": [
       "tensor([0.5298, 8.8804], device='cuda:2')"
      ]
     },
     "execution_count": 18,
     "metadata": {},
     "output_type": "execute_result"
    }
   ],
   "source": [
    "class_weights = compute_class_weights(mask_patches)\n",
    "class_weights=torch.tensor(class_weights,dtype=torch.float).to(device)\n",
    "class_weights"
   ]
  },
  {
   "cell_type": "markdown",
   "id": "7905d5e9",
   "metadata": {},
   "source": [
    "#### Next, we define number of classes and learning rate. We also intialize the 2D UNet model, Adam optimizer and loss fucntion along with computed class weights."
   ]
  },
  {
   "cell_type": "code",
   "execution_count": 19,
   "id": "10ba16ff",
   "metadata": {},
   "outputs": [],
   "source": [
    "n_classes = 2\n",
    "learning_rate = 1e-4\n",
    "\n",
    "\n",
    "model = UNet().to(device)\n",
    "optimizer = torch.optim.AdamW(model.parameters(), lr=learning_rate)\n",
    "\n",
    "loss_fn = torch.nn.CrossEntropyLoss(weight=class_weights)\n"
   ]
  },
  {
   "cell_type": "markdown",
   "id": "d03737c5",
   "metadata": {},
   "source": [
    "#### We define a function 'run_one_epoch' that iterates over the dataloader, computes cross entropy weighted loss, backpropogates the weight (only if dataloader is a training set, indicated by boolean flag) and finally computes the dice coefficient score."
   ]
  },
  {
   "cell_type": "markdown",
   "id": "edc3bb6e",
   "metadata": {},
   "source": [
    "#### Reference: The code for computing the dice coefficient was referred from open-sourced github repo under free license."
   ]
  },
  {
   "cell_type": "code",
   "execution_count": 20,
   "id": "c8c41050",
   "metadata": {},
   "outputs": [],
   "source": [
    "def run_one_epoch(dataloader, model, optimizer, train_flag=True):\n",
    "    dice = []\n",
    "    losses = []\n",
    "    \n",
    "    if train_flag:\n",
    "        model.train()\n",
    "    else:\n",
    "        model.eval()\n",
    "        \n",
    "        \n",
    "    for x,y in train_dl:\n",
    "        x=x.to(device)\n",
    "        y=y.to(device)\n",
    "        y_pred = model(x)\n",
    "        loss = loss_fn(y_pred, y)\n",
    "        \n",
    "        if train_flag:\n",
    "            optimizer.zero_grad()\n",
    "            loss.backward()\n",
    "            optimizer.step()\n",
    "        \n",
    "        losses.append(loss.item())\n",
    "        \n",
    "        smooth = 1.\n",
    "        y_pred = torch.sigmoid(y_pred)\n",
    "        y_pred = torch.max(y_pred,1)[1]\n",
    "        \n",
    "        iflat = y_pred.contiguous().reshape(-1)\n",
    "        tflat = y.contiguous().reshape(-1)\n",
    "        intersection = (iflat * tflat).sum()\n",
    "        \n",
    "        A_sum = torch.sum(iflat * iflat)\n",
    "        B_sum = torch.sum(tflat * tflat)\n",
    "        \n",
    "        dice.append(((2. * intersection + smooth) / (A_sum + B_sum + smooth)).item())\n",
    "        \n",
    "        \n",
    "    return np.mean(losses), np.mean(dice)\n",
    "        "
   ]
  },
  {
   "cell_type": "markdown",
   "id": "ab6f3a33",
   "metadata": {},
   "source": [
    "#### Now that we have everything in place, let's  train the model for 10 epochs initially only and see how the loss function behaves. We would also save the loss values and dice coefficients at the end of every epoch."
   ]
  },
  {
   "cell_type": "code",
   "execution_count": 21,
   "id": "6645419e",
   "metadata": {},
   "outputs": [
    {
     "name": "stdout",
     "output_type": "stream",
     "text": [
      "train loss 0.18 valid loss 0.07 train_dice_coeff 0.60 val_dice_coeff 0.76\n",
      "train loss 0.08 valid loss 0.06 train_dice_coeff 0.72 val_dice_coeff 0.71\n",
      "train loss 0.05 valid loss 0.03 train_dice_coeff 0.79 val_dice_coeff 0.83\n",
      "train loss 0.04 valid loss 0.05 train_dice_coeff 0.80 val_dice_coeff 0.72\n",
      "train loss 0.04 valid loss 0.03 train_dice_coeff 0.81 val_dice_coeff 0.87\n",
      "train loss 0.03 valid loss 0.03 train_dice_coeff 0.84 val_dice_coeff 0.86\n",
      "train loss 0.03 valid loss 0.02 train_dice_coeff 0.85 val_dice_coeff 0.86\n",
      "train loss 0.04 valid loss 0.03 train_dice_coeff 0.83 val_dice_coeff 0.85\n",
      "train loss 0.03 valid loss 0.05 train_dice_coeff 0.85 val_dice_coeff 0.74\n",
      "train loss 0.03 valid loss 0.02 train_dice_coeff 0.85 val_dice_coeff 0.87\n"
     ]
    }
   ],
   "source": [
    "train_losses = []\n",
    "val_losses = []\n",
    "train_dice = []\n",
    "val_dice = []\n",
    "for i in range(10):\n",
    "    train_loss, train_dice_coeff = run_one_epoch(train_dl, model, optimizer)\n",
    "    val_loss, val_dice_coeff = run_one_epoch(val_dl, model, optimizer, False)\n",
    "    train_losses.append(train_loss)\n",
    "    val_losses.append(val_loss)    \n",
    "    train_dice.append(train_dice_coeff)\n",
    "    val_dice.append(val_dice_coeff)\n",
    "    print(\"train loss %.2f valid loss %.2f train_dice_coeff %.2f val_dice_coeff %.2f\" %(train_loss, val_loss,train_dice_coeff, val_dice_coeff))"
   ]
  },
  {
   "cell_type": "markdown",
   "id": "b6f0a486",
   "metadata": {},
   "source": [
    "#### We achieved dice coefficient score of 0.87 on the validation set after training the model for just 10 epochs."
   ]
  },
  {
   "cell_type": "code",
   "execution_count": 25,
   "id": "811f194e",
   "metadata": {},
   "outputs": [
    {
     "name": "stdout",
     "output_type": "stream",
     "text": [
      "train loss 0.02 valid loss 0.02 train_dice_coeff 0.87 val_dice_coeff 0.88\n",
      "train loss 0.02 valid loss 0.02 train_dice_coeff 0.87 val_dice_coeff 0.87\n",
      "train loss 0.02 valid loss 0.02 train_dice_coeff 0.88 val_dice_coeff 0.91\n",
      "train loss 0.02 valid loss 0.02 train_dice_coeff 0.88 val_dice_coeff 0.86\n",
      "train loss 0.03 valid loss 0.02 train_dice_coeff 0.86 val_dice_coeff 0.90\n",
      "train loss 0.02 valid loss 0.02 train_dice_coeff 0.88 val_dice_coeff 0.87\n",
      "train loss 0.03 valid loss 0.02 train_dice_coeff 0.86 val_dice_coeff 0.91\n",
      "train loss 0.02 valid loss 0.02 train_dice_coeff 0.89 val_dice_coeff 0.91\n",
      "train loss 0.02 valid loss 0.03 train_dice_coeff 0.89 val_dice_coeff 0.84\n",
      "train loss 0.02 valid loss 0.02 train_dice_coeff 0.88 val_dice_coeff 0.88\n"
     ]
    }
   ],
   "source": [
    "for i in range(10):\n",
    "    train_loss, train_dice_coeff = run_one_epoch(train_dl, model, optimizer)\n",
    "    val_loss, val_dice_coeff = run_one_epoch(val_dl, model, optimizer, False)\n",
    "    train_losses.append(train_loss)\n",
    "    val_losses.append(val_loss)    \n",
    "    train_dice.append(train_dice_coeff)\n",
    "    val_dice.append(val_dice_coeff)\n",
    "    print(\"train loss %.2f valid loss %.2f train_dice_coeff %.2f val_dice_coeff %.2f\" %(train_loss, val_loss,train_dice_coeff, val_dice_coeff))"
   ]
  },
  {
   "cell_type": "markdown",
   "id": "5ab32f1e",
   "metadata": {},
   "source": [
    "#### Let's plot training and validation loss vs number of epochs to inspect the training behaviour."
   ]
  },
  {
   "cell_type": "code",
   "execution_count": 27,
   "id": "999c6a47",
   "metadata": {},
   "outputs": [
    {
     "data": {
      "image/png": "[encoded data removed]",
      "text/plain": [
       "<Figure size 720x432 with 1 Axes>"
      ]
     },
     "metadata": {
      "needs_background": "light"
     },
     "output_type": "display_data"
    }
   ],
   "source": [
    "fig, ax = plt.subplots(1, figsize=(10,6))\n",
    "\n",
    "ax.plot(range(1,21),train_losses,label = \"Training Loss\")\n",
    "ax.plot(range(1,21), val_losses,label = \"Validation Loss\")\n",
    "ax.set_xlabel('Number of Epoch') \n",
    "ax.set_ylabel('loss')    \n",
    "plt.legend()   \n",
    "plt.show()    "
   ]
  },
  {
   "cell_type": "markdown",
   "id": "c50c34a6",
   "metadata": {},
   "source": [
    "#### Plot Training and Validation Dice Coefficient score vs Number of Epochs."
   ]
  },
  {
   "cell_type": "code",
   "execution_count": 28,
   "id": "69530c36",
   "metadata": {},
   "outputs": [
    {
     "data": {
      "image/png": "[encoded data removed]",
      "text/plain": [
       "<Figure size 720x432 with 1 Axes>"
      ]
     },
     "metadata": {
      "needs_background": "light"
     },
     "output_type": "display_data"
    }
   ],
   "source": [
    "fig, ax = plt.subplots(1, figsize=(10,6))\n",
    "\n",
    "ax.plot(range(1,21),train_dice,label = \"Dice Coefficient -Training\")\n",
    "ax.plot(range(1,21), val_dice,label = \"Dice Coefficient -Validation\")\n",
    "ax.set_xlabel('Number of Epoch') \n",
    "ax.set_ylabel('loss')    \n",
    "plt.legend()   \n",
    "plt.show()    "
   ]
  },
  {
   "cell_type": "markdown",
   "id": "4c566d22",
   "metadata": {},
   "source": [
    "#### Save the model"
   ]
  },
  {
   "cell_type": "code",
   "execution_count": 29,
   "id": "4bcb12dc",
   "metadata": {},
   "outputs": [],
   "source": [
    "torch.save(model.state_dict(), './model_2DUnet.pth')"
   ]
  }
 ],
 "metadata": {
  "kernelspec": {
   "display_name": "Python [conda env:py3_lapidaire] *",
   "language": "python",
   "name": "conda-env-py3_lapidaire-py"
  },
  "language_info": {
   "codemirror_mode": {
    "name": "ipython",
    "version": 3
   },
   "file_extension": ".py",
   "mimetype": "text/x-python",
   "name": "python",
   "nbconvert_exporter": "python",
   "pygments_lexer": "ipython3",
   "version": "3.9.7"
  }
 },
 "nbformat": 4,
 "nbformat_minor": 5
}
